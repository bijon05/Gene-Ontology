{
 "cells": [
  {
   "cell_type": "code",
   "execution_count": 1,
   "metadata": {},
   "outputs": [],
   "source": [
    "def bfs_shortest_path(graph, start, goal):\n",
    "    explored = []\n",
    "    queue = [[start]]\n",
    "    if start == goal:\n",
    "        return \"That was easy! Start = goal\"\n",
    "    while queue:\n",
    "        path = queue.pop(0)\n",
    "        node = path[-1]\n",
    "        if node not in explored:\n",
    "            neighbours = graph[node]\n",
    "            for neighbour in neighbours:\n",
    "                new_path = list(path)\n",
    "                new_path.append(neighbour)\n",
    "                queue.append(new_path)\n",
    "                if neighbour == goal:\n",
    "                    return new_path\n",
    "\n",
    "            explored.append(node)\n",
    "\n",
    "    return \"So sorry, but a connecting path doesn't exist 😞\""
   ]
  },
  {
   "cell_type": "code",
   "execution_count": 2,
   "metadata": {},
   "outputs": [],
   "source": [
    "graph = {'0000001': ['0048308', '0048311'],\n",
    "         '0048308': ['0006996'],\n",
    "         '0048311': ['0007005', '0051646'],\n",
    "         '0006996': ['0016043'],\n",
    "         '0007005': ['0006996'],\n",
    "         '0051646': ['0051640'],\n",
    "         '0016043': ['0009987', '0071840'],\n",
    "         '0009987': ['0008150'],\n",
    "         '0051640': ['0051641'],\n",
    "         '0071840': ['0008150'],\n",
    "         '0051641': ['0051179'],\n",
    "         '0051179': ['0008150'],\n",
    "         '0000002': ['0007005'],\n",
    "         '0000003': ['0008150']}"
   ]
  },
  {
   "cell_type": "code",
   "execution_count": 3,
   "metadata": {},
   "outputs": [
    {
     "name": "stdout",
     "output_type": "stream",
     "text": [
      "shoetest path:\n",
      "['0000001', '0048308', '0006996', '0016043', '0071840']\n"
     ]
    }
   ],
   "source": [
    "print(\"shoetest path:\")\n",
    "print(bfs_shortest_path(graph, '0000001', '0071840'))"
   ]
  },
  {
   "cell_type": "code",
   "execution_count": null,
   "metadata": {},
   "outputs": [],
   "source": []
  }
 ],
 "metadata": {
  "kernelspec": {
   "display_name": "Python 3",
   "language": "python",
   "name": "python3"
  },
  "language_info": {
   "codemirror_mode": {
    "name": "ipython",
    "version": 3
   },
   "file_extension": ".py",
   "mimetype": "text/x-python",
   "name": "python",
   "nbconvert_exporter": "python",
   "pygments_lexer": "ipython3",
   "version": "3.7.1"
  }
 },
 "nbformat": 4,
 "nbformat_minor": 2
}
