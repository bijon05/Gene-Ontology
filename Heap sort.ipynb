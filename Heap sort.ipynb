{
 "cells": [
  {
   "cell_type": "code",
   "execution_count": 1,
   "metadata": {},
   "outputs": [],
   "source": [
    "# Python program for implementation of heap Sort\n",
    "\n",
    "# To heapify subtree rooted at index i.\n",
    "# n is size of heap\n",
    "def heapify(arr, n, i):\n",
    "\tlargest = i # Initialize largest as root\n",
    "\tl = 2 * i + 1\t # left = 2*i + 1\n",
    "\tr = 2 * i + 2\t # right = 2*i + 2\n",
    "\n",
    "\t# See if left child of root exists and is\n",
    "\t# greater than root\n",
    "\tif l < n and arr[i] < arr[l]:\n",
    "\t\tlargest = l\n",
    "\n",
    "\t# See if right child of root exists and is\n",
    "\t# greater than root\n",
    "\tif r < n and arr[largest] < arr[r]:\n",
    "\t\tlargest = r\n",
    "\n",
    "\t# Change root, if needed\n",
    "\tif largest != i:\n",
    "\t\tarr[i],arr[largest] = arr[largest],arr[i] # swap\n",
    "\n",
    "\t\t# Heapify the root.\n",
    "\t\theapify(arr, n, largest)\n"
   ]
  },
  {
   "cell_type": "code",
   "execution_count": 2,
   "metadata": {},
   "outputs": [],
   "source": [
    "# The main function to sort an array of given size\n",
    "def heapSort(arr):\n",
    "\tn = len(arr) \n",
    "\n",
    "\t# Build a maxheap.\n",
    "\tfor i in range(n, -1, -1):\n",
    "\t\theapify(arr, n, i)\n",
    "\n",
    "\t# One by one extract elements\n",
    "\tfor i in range(n-1, 0, -1):\n",
    "\t\tarr[i], arr[0] = arr[0], arr[i] # swap\n",
    "\t\theapify(arr, i, 0)\n"
   ]
  },
  {
   "cell_type": "code",
   "execution_count": 3,
   "metadata": {},
   "outputs": [
    {
     "name": "stdout",
     "output_type": "stream",
     "text": [
      "Sorted array is\n",
      "5\n",
      "6\n",
      "7\n",
      "11\n",
      "12\n",
      "13\n"
     ]
    }
   ],
   "source": [
    "# Driver code to test above\n",
    "arr = [ 12, 11, 13, 5, 6, 7]\n",
    "heapSort(arr)\n",
    "n = len(arr)\n",
    "print (\"Sorted array is\")\n",
    "for i in range(n):\n",
    "\tprint (\"%d\" %arr[i]),"
   ]
  },
  {
   "cell_type": "code",
   "execution_count": null,
   "metadata": {},
   "outputs": [],
   "source": []
  }
 ],
 "metadata": {
  "kernelspec": {
   "display_name": "Python 3",
   "language": "python",
   "name": "python3"
  },
  "language_info": {
   "codemirror_mode": {
    "name": "ipython",
    "version": 3
   },
   "file_extension": ".py",
   "mimetype": "text/x-python",
   "name": "python",
   "nbconvert_exporter": "python",
   "pygments_lexer": "ipython3",
   "version": "3.7.1"
  }
 },
 "nbformat": 4,
 "nbformat_minor": 2
}
